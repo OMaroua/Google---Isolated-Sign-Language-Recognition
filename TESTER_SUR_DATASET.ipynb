{
 "cells": [
  {
   "cell_type": "markdown",
   "id": "6f15dbf6-e399-4fe3-9ad4-6cbd16243094",
   "metadata": {},
   "source": [
    "## TESTER SUR LE TRAINING DATASET"
   ]
  },
  {
   "cell_type": "code",
   "execution_count": 8,
   "id": "c012e40c-99bf-4de8-b686-6ddc55aa5196",
   "metadata": {},
   "outputs": [],
   "source": [
    "import pandas as pd\n",
    "import numpy as np\n",
    "\n",
    "import zipfile\n",
    "import tensorflow as tf\n"
   ]
  },
  {
   "cell_type": "code",
   "execution_count": 9,
   "id": "c5dc9c27-3882-4d18-99d9-ed92ed534562",
   "metadata": {},
   "outputs": [],
   "source": [
    "zf = zipfile.ZipFile('asl-signs.zip') \n",
    "train_df = pd.read_csv(zf.open('train.csv'))\n",
    "train = pd.read_csv(zf.open('train.csv'))"
   ]
  },
  {
   "cell_type": "code",
   "execution_count": 10,
   "id": "0bc77bfa-3d24-4c5a-be01-08a9779224d7",
   "metadata": {},
   "outputs": [],
   "source": [
    "# Add ordinally Encoded Sign (assign number to each sign name)\n",
    "train['sign_ord'] = train['sign'].astype('category').cat.codes\n",
    "\n",
    "# Dictionaries to translate sign <-> ordinal encoded sign\n",
    "SIGN2ORD = train[['sign', 'sign_ord']].set_index('sign').squeeze().to_dict()\n",
    "ORD2SIGN = train[['sign_ord', 'sign']].set_index('sign_ord').squeeze().to_dict()"
   ]
  },
  {
   "cell_type": "code",
   "execution_count": 11,
   "id": "3cfe2f51-266b-4862-9c77-3408fd779a2a",
   "metadata": {},
   "outputs": [],
   "source": [
    "ROWS_PER_FRAME = 543  # number of landmarks per frame\n",
    "\n",
    "def load_relevant_data_subset(pq_path):\n",
    "    data_columns = ['x', 'y', 'z']\n",
    "    data = pd.read_parquet(pq_path, columns=data_columns)\n",
    "    n_frames = int(len(data) / ROWS_PER_FRAME)\n",
    "    data = data.values.reshape(n_frames, ROWS_PER_FRAME, len(data_columns))\n",
    "    return data.astype(np.float32)"
   ]
  },
  {
   "cell_type": "code",
   "execution_count": 5,
   "id": "fa8fa69d-68eb-402f-9e16-bc75b718511a",
   "metadata": {},
   "outputs": [],
   "source": [
    "interpreter = tf.lite.Interpreter(\"./model_first.tflite\") # 92.39%\n",
    "found_signatures = list(interpreter.get_signature_list().keys())\n",
    "prediction_fn = interpreter.get_signature_runner(\"serving_default\")\n",
    "\n",
    "#output = prediction_fn(inputs=demo_raw_data)\n",
    "#sign = output['outputs'].argmax()\n"
   ]
  },
  {
   "cell_type": "code",
   "execution_count": 6,
   "id": "3f2558ed-66cf-4434-91ac-ac11b2ad0834",
   "metadata": {},
   "outputs": [
    {
     "name": "stderr",
     "output_type": "stream",
     "text": [
      "100%|██████████████████████████████████| 94477/94477 [20:09:33<00:00,  1.30it/s]"
     ]
    },
    {
     "name": "stdout",
     "output_type": "stream",
     "text": [
      "Accuracy: 92.39%\n"
     ]
    },
    {
     "name": "stderr",
     "output_type": "stream",
     "text": [
      "\n"
     ]
    }
   ],
   "source": [
    "import pandas as pd\n",
    "from tqdm import tqdm  # for progress bars\n",
    "\n",
    "\n",
    "predictions = []\n",
    "true_labels = []\n",
    "\n",
    "for idx, row in tqdm(train.iterrows(), total=train.shape[0]):\n",
    "    pq_path = row['path'] \n",
    "    pq_file = zf.open(pq_path)\n",
    "    xyz_np = load_relevant_data_subset(pq_file)  # Load and preprocess the data\n",
    "    prediction = prediction_fn(inputs=xyz_np)  # Make a prediction\n",
    "    predicted_sign_ord = prediction['outputs'].argmax()\n",
    "    predicted_sign = ORD2SIGN.get(predicted_sign_ord)\n",
    "    \n",
    "    predictions.append(predicted_sign)\n",
    "    true_labels.append(row['sign'])\n",
    "\n",
    "# calculate accuracy:\n",
    "accuracy = sum(1 for true, pred in zip(true_labels, predictions) if true == pred) / len(true_labels)\n",
    "print(f\"Accuracy: {accuracy:.2%}\")\n"
   ]
  },
  {
   "cell_type": "code",
   "execution_count": 11,
   "id": "b838cba9-7e19-424f-8c38-eab249c8a1a2",
   "metadata": {},
   "outputs": [],
   "source": [
    "interpreter = tf.lite.Interpreter(\"./model_4models.tflite\") # 100%\n",
    "found_signatures = list(interpreter.get_signature_list().keys())\n",
    "prediction_fn = interpreter.get_signature_runner(\"serving_default\")"
   ]
  },
  {
   "cell_type": "code",
   "execution_count": 12,
   "id": "8027502d-0951-4bf5-a035-ce3aa3e7e652",
   "metadata": {},
   "outputs": [
    {
     "name": "stderr",
     "output_type": "stream",
     "text": [
      "100%|███████████████████████████████████| 94477/94477 [1:08:38<00:00, 22.94it/s]"
     ]
    },
    {
     "name": "stdout",
     "output_type": "stream",
     "text": [
      "Accuracy: 100.00%\n"
     ]
    },
    {
     "name": "stderr",
     "output_type": "stream",
     "text": [
      "\n"
     ]
    }
   ],
   "source": [
    "import pandas as pd\n",
    "from tqdm import tqdm  # for progress bars\n",
    "\n",
    "\n",
    "predictions = []\n",
    "true_labels = []\n",
    "\n",
    "for idx, row in tqdm(train.iterrows(), total=train.shape[0]):\n",
    "    pq_path = row['path']  \n",
    "    pq_file = zf.open(pq_path)\n",
    "    xyz_np = load_relevant_data_subset(pq_file)  # Load and preprocess the data\n",
    "    prediction = prediction_fn(inputs=xyz_np)  # Make a prediction\n",
    "    predicted_sign_ord = prediction['outputs'].argmax()\n",
    "    predicted_sign = ORD2SIGN.get(predicted_sign_ord)\n",
    "    \n",
    "    predictions.append(predicted_sign)\n",
    "    true_labels.append(row['sign'])\n",
    "\n",
    "# calculate accuracy:\n",
    "accuracy = sum(1 for true, pred in zip(true_labels, predictions) if true == pred) / len(true_labels)\n",
    "print(f\"Accuracy: {accuracy:.2%}\")\n"
   ]
  },
  {
   "cell_type": "code",
   "execution_count": 6,
   "id": "2ded4b20-9e14-4a13-b3ea-4a44ac9a77e2",
   "metadata": {},
   "outputs": [],
   "source": [
    "interpreter = tf.lite.Interpreter(\"./model.tflite\") # 100%\n",
    "found_signatures = list(interpreter.get_signature_list().keys())\n",
    "prediction_fn = interpreter.get_signature_runner(\"serving_default\")"
   ]
  },
  {
   "cell_type": "code",
   "execution_count": 7,
   "id": "e10b782f-4842-4452-9f19-92b28433afab",
   "metadata": {},
   "outputs": [
    {
     "name": "stderr",
     "output_type": "stream",
     "text": [
      "100%|███████████████████████████████████| 94477/94477 [1:24:35<00:00, 18.62it/s]"
     ]
    },
    {
     "name": "stdout",
     "output_type": "stream",
     "text": [
      "Accuracy: 100.00%\n"
     ]
    },
    {
     "name": "stderr",
     "output_type": "stream",
     "text": [
      "\n"
     ]
    }
   ],
   "source": [
    "import pandas as pd\n",
    "from tqdm import tqdm  # for progress bars\n",
    "\n",
    "\n",
    "predictions = []\n",
    "true_labels = []\n",
    "\n",
    "for idx, row in tqdm(train.iterrows(), total=train.shape[0]):\n",
    "    pq_path = row['path']  \n",
    "    pq_file = zf.open(pq_path)\n",
    "    xyz_np = load_relevant_data_subset(pq_file)  # Load and preprocess the data\n",
    "    prediction = prediction_fn(inputs=xyz_np)  # Make a prediction\n",
    "    predicted_sign_ord = prediction['outputs'].argmax()\n",
    "    predicted_sign = ORD2SIGN.get(predicted_sign_ord)\n",
    "    \n",
    "    predictions.append(predicted_sign)\n",
    "    true_labels.append(row['sign'])\n",
    "\n",
    "\n",
    "# calculate accuracy:\n",
    "accuracy = sum(1 for true, pred in zip(true_labels, predictions) if true == pred) / len(true_labels)\n",
    "print(f\"Accuracy: {accuracy:.2%}\")\n"
   ]
  },
  {
   "cell_type": "code",
   "execution_count": 12,
   "id": "c59bfb98-5b6c-4604-b0f7-42ceeb3b6274",
   "metadata": {},
   "outputs": [],
   "source": [
    "interpreter = tf.lite.Interpreter(\"./model_119.tflite\") # 94.99%\n",
    "found_signatures = list(interpreter.get_signature_list().keys())\n",
    "prediction_fn = interpreter.get_signature_runner(\"serving_default\")"
   ]
  },
  {
   "cell_type": "code",
   "execution_count": 13,
   "id": "a004bf03-f53e-4b22-9316-e8df6d35b17a",
   "metadata": {},
   "outputs": [
    {
     "name": "stderr",
     "output_type": "stream",
     "text": [
      "100%|███████████████████████████████████| 94477/94477 [1:23:35<00:00, 18.84it/s]"
     ]
    },
    {
     "name": "stdout",
     "output_type": "stream",
     "text": [
      "Accuracy: 94.99%\n"
     ]
    },
    {
     "name": "stderr",
     "output_type": "stream",
     "text": [
      "\n"
     ]
    }
   ],
   "source": [
    "import pandas as pd\n",
    "from tqdm import tqdm  # for progress bars\n",
    "\n",
    "\n",
    "predictions = []\n",
    "true_labels = []\n",
    "\n",
    "for idx, row in tqdm(train.iterrows(), total=train.shape[0]):\n",
    "    pq_path = row['path']  \n",
    "    pq_file = zf.open(pq_path)\n",
    "    xyz_np = load_relevant_data_subset(pq_file)  # Load and preprocess the data\n",
    "    prediction = prediction_fn(inputs=xyz_np)  # Make a prediction\n",
    "    predicted_sign_ord = prediction['outputs'].argmax()\n",
    "    predicted_sign = ORD2SIGN.get(predicted_sign_ord)\n",
    "    \n",
    "    predictions.append(predicted_sign)\n",
    "    true_labels.append(row['sign'])\n",
    "\n",
    "\n",
    "# calculate accuracy:\n",
    "accuracy = sum(1 for true, pred in zip(true_labels, predictions) if true == pred) / len(true_labels)\n",
    "print(f\"Accuracy: {accuracy:.2%}\")\n"
   ]
  },
  {
   "cell_type": "code",
   "execution_count": 14,
   "id": "349e35ed-0091-4045-bb19-f914998d0b12",
   "metadata": {},
   "outputs": [],
   "source": [
    "interpreter = tf.lite.Interpreter(\"./model_newbie.tflite\") # 28.50%\n",
    "found_signatures = list(interpreter.get_signature_list().keys())\n",
    "prediction_fn = interpreter.get_signature_runner(\"serving_default\")"
   ]
  },
  {
   "cell_type": "code",
   "execution_count": 15,
   "id": "0c071df6-c46c-43d6-bd48-02615fc46ae3",
   "metadata": {},
   "outputs": [
    {
     "name": "stderr",
     "output_type": "stream",
     "text": [
      "100%|███████████████████████████████████| 94477/94477 [3:38:40<00:00,  7.20it/s]"
     ]
    },
    {
     "name": "stdout",
     "output_type": "stream",
     "text": [
      "Accuracy: 28.50%\n"
     ]
    },
    {
     "name": "stderr",
     "output_type": "stream",
     "text": [
      "\n"
     ]
    }
   ],
   "source": [
    "import pandas as pd\n",
    "from tqdm import tqdm  # for progress bars\n",
    "\n",
    "\n",
    "predictions = []\n",
    "true_labels = []\n",
    "\n",
    "for idx, row in tqdm(train.iterrows(), total=train.shape[0]):\n",
    "    pq_path = row['path']  \n",
    "    pq_file = zf.open(pq_path)\n",
    "    xyz_np = load_relevant_data_subset(pq_file)  # Load and preprocess the data\n",
    "    prediction = prediction_fn(inputs=xyz_np)  # Make a prediction\n",
    "    predicted_sign_ord = prediction['outputs'].argmax()\n",
    "    predicted_sign = ORD2SIGN.get(predicted_sign_ord)\n",
    "    \n",
    "    predictions.append(predicted_sign)\n",
    "    true_labels.append(row['sign'])\n",
    "\n",
    "\n",
    "# calculate accuracy:\n",
    "accuracy = sum(1 for true, pred in zip(true_labels, predictions) if true == pred) / len(true_labels)\n",
    "print(f\"Accuracy: {accuracy:.2%}\")\n"
   ]
  },
  {
   "cell_type": "code",
   "execution_count": 16,
   "id": "cc06af60-71a4-4728-8c68-c076f93d6727",
   "metadata": {},
   "outputs": [],
   "source": [
    "interpreter = tf.lite.Interpreter(\"./model_ConvLSTM.tflite\")\n",
    "found_signatures = list(interpreter.get_signature_list().keys())\n",
    "prediction_fn = interpreter.get_signature_runner(\"serving_default\")"
   ]
  },
  {
   "cell_type": "code",
   "execution_count": 17,
   "id": "863f5eee-116d-451d-b273-c18b1de05122",
   "metadata": {},
   "outputs": [
    {
     "name": "stderr",
     "output_type": "stream",
     "text": [
      "100%|███████████████████████████████████| 94477/94477 [1:00:55<00:00, 25.85it/s]"
     ]
    },
    {
     "name": "stdout",
     "output_type": "stream",
     "text": [
      "Accuracy: 28.50%\n"
     ]
    },
    {
     "name": "stderr",
     "output_type": "stream",
     "text": [
      "\n"
     ]
    }
   ],
   "source": [
    "import pandas as pd\n",
    "from tqdm import tqdm  # for progress bars\n",
    "\n",
    "\n",
    "predictions = []\n",
    "true_labels = []\n",
    "\n",
    "for idx, row in tqdm(train.iterrows(), total=train.shape[0]):\n",
    "    pq_path = row['path']  \n",
    "    pq_file = zf.open(pq_path)\n",
    "    xyz_np = load_relevant_data_subset(pq_file)  # Load and preprocess the data\n",
    "    prediction = prediction_fn(inputs=xyz_np)  # Make a prediction\n",
    "    predicted_sign_ord = prediction['outputs'].argmax()\n",
    "    predicted_sign = ORD2SIGN.get(predicted_sign_ord)\n",
    "    \n",
    "    predictions.append(predicted_sign)\n",
    "    true_labels.append(row['sign'])\n",
    "\n",
    "\n",
    "# calculate accuracy:\n",
    "accuracy = sum(1 for true, pred in zip(true_labels, predictions) if true == pred) / len(true_labels)\n",
    "print(f\"Accuracy: {accuracy:.2%}\")"
   ]
  },
  {
   "cell_type": "code",
   "execution_count": null,
   "id": "f987d3c7-cf62-4b67-9bc6-e9a6ac740e27",
   "metadata": {},
   "outputs": [],
   "source": []
  }
 ],
 "metadata": {
  "kernelspec": {
   "display_name": "Python 3 (ipykernel)",
   "language": "python",
   "name": "python3"
  },
  "language_info": {
   "codemirror_mode": {
    "name": "ipython",
    "version": 3
   },
   "file_extension": ".py",
   "mimetype": "text/x-python",
   "name": "python",
   "nbconvert_exporter": "python",
   "pygments_lexer": "ipython3",
   "version": "3.11.8"
  }
 },
 "nbformat": 4,
 "nbformat_minor": 5
}
