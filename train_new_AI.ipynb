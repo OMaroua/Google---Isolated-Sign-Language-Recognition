{
 "cells": [
  {
   "cell_type": "code",
   "execution_count": 1,
   "id": "11e1cfec-c281-4d8c-8081-a61faee79365",
   "metadata": {},
   "outputs": [],
   "source": [
    "import pandas as pd\n",
    "import numpy as np\n",
    "from tqdm import tqdm \n",
    "import zipfile\n",
    "import tensorflow as tf\n"
   ]
  },
  {
   "cell_type": "code",
   "execution_count": 2,
   "id": "859110d2-f638-40f1-88c8-efb6fa6f4e2c",
   "metadata": {},
   "outputs": [],
   "source": [
    "zf = zipfile.ZipFile('asl-signs.zip') \n",
    "train_df = pd.read_csv(zf.open('train.csv'))\n",
    "train = pd.read_csv(zf.open('train.csv'))"
   ]
  },
  {
   "cell_type": "code",
   "execution_count": 3,
   "id": "b416688f-7b27-42da-9786-dd46527e9154",
   "metadata": {},
   "outputs": [],
   "source": [
    "# Add ordinally Encoded Sign (assign number to each sign name)\n",
    "train['sign_ord'] = train['sign'].astype('category').cat.codes\n",
    "\n",
    "# Dictionaries to translate sign <-> ordinal encoded sign\n",
    "SIGN2ORD = train[['sign', 'sign_ord']].set_index('sign').squeeze().to_dict()\n",
    "ORD2SIGN = train[['sign_ord', 'sign']].set_index('sign_ord').squeeze().to_dict()"
   ]
  },
  {
   "cell_type": "code",
   "execution_count": 4,
   "id": "c5681009-e1f2-40d1-a47f-e586b35a59e3",
   "metadata": {},
   "outputs": [],
   "source": [
    "ROWS_PER_FRAME = 543  # number of landmarks per frame\n",
    "\n",
    "def load_relevant_data_subset(pq_path):\n",
    "    data_columns = ['x', 'y', 'z']\n",
    "    data = pd.read_parquet(pq_path, columns=data_columns)\n",
    "    n_frames = int(len(data) / ROWS_PER_FRAME)\n",
    "    data = data.values.reshape(n_frames, ROWS_PER_FRAME, len(data_columns))\n",
    "    return data.astype(np.float32)"
   ]
  },
  {
   "cell_type": "code",
   "execution_count": 5,
   "id": "f72e8bec-ac85-4ead-be57-35e9610161d8",
   "metadata": {},
   "outputs": [
    {
     "name": "stderr",
     "output_type": "stream",
     "text": [
      " 30%|██████████▎                        | 27931/94477 [39:34<1:34:17, 11.76it/s]\n"
     ]
    },
    {
     "ename": "KeyboardInterrupt",
     "evalue": "",
     "output_type": "error",
     "traceback": [
      "\u001b[0;31m---------------------------------------------------------------------------\u001b[0m",
      "\u001b[0;31mKeyboardInterrupt\u001b[0m                         Traceback (most recent call last)",
      "Cell \u001b[0;32mIn[5], line 19\u001b[0m\n\u001b[1;32m     12\u001b[0m         model_predictions\u001b[38;5;241m.\u001b[39mappend(output)\n\u001b[1;32m     16\u001b[0m     \u001b[38;5;28;01mreturn\u001b[39;00m np\u001b[38;5;241m.\u001b[39marray(model_predictions)\n\u001b[1;32m     18\u001b[0m all_model_predictions \u001b[38;5;241m=\u001b[39m np\u001b[38;5;241m.\u001b[39mhstack([\n\u001b[0;32m---> 19\u001b[0m     get_model_predictions(\u001b[38;5;124m\"\u001b[39m\u001b[38;5;124m./model_119.tflite\u001b[39m\u001b[38;5;124m\"\u001b[39m, train)\u001b[38;5;241m.\u001b[39mreshape(train\u001b[38;5;241m.\u001b[39mshape[\u001b[38;5;241m0\u001b[39m], \u001b[38;5;241m-\u001b[39m\u001b[38;5;241m1\u001b[39m),\n\u001b[1;32m     20\u001b[0m     get_model_predictions(\u001b[38;5;124m\"\u001b[39m\u001b[38;5;124m./model_first.tflite\u001b[39m\u001b[38;5;124m\"\u001b[39m, train)\u001b[38;5;241m.\u001b[39mreshape(train\u001b[38;5;241m.\u001b[39mshape[\u001b[38;5;241m0\u001b[39m], \u001b[38;5;241m-\u001b[39m\u001b[38;5;241m1\u001b[39m),\n\u001b[1;32m     21\u001b[0m     get_model_predictions(\u001b[38;5;124m\"\u001b[39m\u001b[38;5;124m./model_newbie.tflite\u001b[39m\u001b[38;5;124m\"\u001b[39m, train)\u001b[38;5;241m.\u001b[39mreshape(train\u001b[38;5;241m.\u001b[39mshape[\u001b[38;5;241m0\u001b[39m], \u001b[38;5;241m-\u001b[39m\u001b[38;5;241m1\u001b[39m),\n\u001b[1;32m     22\u001b[0m     get_model_predictions(\u001b[38;5;124m\"\u001b[39m\u001b[38;5;124m./model_ConvLSTM.tflite\u001b[39m\u001b[38;5;124m\"\u001b[39m, train)\u001b[38;5;241m.\u001b[39mreshape(train\u001b[38;5;241m.\u001b[39mshape[\u001b[38;5;241m0\u001b[39m], \u001b[38;5;241m-\u001b[39m\u001b[38;5;241m1\u001b[39m),\n\u001b[1;32m     23\u001b[0m ])\n",
      "Cell \u001b[0;32mIn[5], line 10\u001b[0m, in \u001b[0;36mget_model_predictions\u001b[0;34m(model_path, train)\u001b[0m\n\u001b[1;32m      8\u001b[0m pq_file \u001b[38;5;241m=\u001b[39m zf\u001b[38;5;241m.\u001b[39mopen(pq_path)\n\u001b[1;32m      9\u001b[0m xyz_np \u001b[38;5;241m=\u001b[39m load_relevant_data_subset(pq_file)\n\u001b[0;32m---> 10\u001b[0m prediction \u001b[38;5;241m=\u001b[39m prediction_fn(inputs\u001b[38;5;241m=\u001b[39mxyz_np)\n\u001b[1;32m     11\u001b[0m output \u001b[38;5;241m=\u001b[39m prediction[\u001b[38;5;124m'\u001b[39m\u001b[38;5;124moutputs\u001b[39m\u001b[38;5;124m'\u001b[39m]\u001b[38;5;241m.\u001b[39msqueeze()  \u001b[38;5;66;03m# This removes dimensions of size 1\u001b[39;00m\n\u001b[1;32m     12\u001b[0m model_predictions\u001b[38;5;241m.\u001b[39mappend(output)\n",
      "File \u001b[0;32m/opt/anaconda3/lib/python3.11/site-packages/tensorflow/lite/python/interpreter.py:249\u001b[0m, in \u001b[0;36mSignatureRunner.__call__\u001b[0;34m(self, **kwargs)\u001b[0m\n\u001b[1;32m    245\u001b[0m \u001b[38;5;28;01mfor\u001b[39;00m input_name, value \u001b[38;5;129;01min\u001b[39;00m kwargs\u001b[38;5;241m.\u001b[39mitems():\n\u001b[1;32m    246\u001b[0m   \u001b[38;5;28mself\u001b[39m\u001b[38;5;241m.\u001b[39m_interpreter_wrapper\u001b[38;5;241m.\u001b[39mSetTensor(\u001b[38;5;28mself\u001b[39m\u001b[38;5;241m.\u001b[39m_inputs[input_name], value,\n\u001b[1;32m    247\u001b[0m                                       \u001b[38;5;28mself\u001b[39m\u001b[38;5;241m.\u001b[39m_subgraph_index)\n\u001b[0;32m--> 249\u001b[0m \u001b[38;5;28mself\u001b[39m\u001b[38;5;241m.\u001b[39m_interpreter_wrapper\u001b[38;5;241m.\u001b[39mInvoke(\u001b[38;5;28mself\u001b[39m\u001b[38;5;241m.\u001b[39m_subgraph_index)\n\u001b[1;32m    250\u001b[0m result \u001b[38;5;241m=\u001b[39m {}\n\u001b[1;32m    251\u001b[0m \u001b[38;5;28;01mfor\u001b[39;00m output_name, output_index \u001b[38;5;129;01min\u001b[39;00m \u001b[38;5;28mself\u001b[39m\u001b[38;5;241m.\u001b[39m_outputs:\n",
      "\u001b[0;31mKeyboardInterrupt\u001b[0m: "
     ]
    }
   ],
   "source": [
    "\n",
    "def get_model_predictions(model_path, train):\n",
    "    model_predictions = []\n",
    "    interpreter = tf.lite.Interpreter(model_path)\n",
    "    prediction_fn = interpreter.get_signature_runner(\"serving_default\")\n",
    "    \n",
    "    for idx, row in tqdm(train.iterrows(), total=train.shape[0]):\n",
    "        pq_path = row['path']\n",
    "        pq_file = zf.open(pq_path)\n",
    "        xyz_np = load_relevant_data_subset(pq_file)\n",
    "        prediction = prediction_fn(inputs=xyz_np)\n",
    "        output = prediction['outputs'].squeeze()  # This removes dimensions of size 1\n",
    "        model_predictions.append(output)\n",
    "\n",
    "\n",
    "        \n",
    "    return np.array(model_predictions)\n",
    "\n",
    "all_model_predictions = np.hstack([\n",
    "    get_model_predictions(\"./model_119.tflite\", train).reshape(train.shape[0], -1),\n",
    "    get_model_predictions(\"./model_first.tflite\", train).reshape(train.shape[0], -1),\n",
    "    get_model_predictions(\"./model_newbie.tflite\", train).reshape(train.shape[0], -1),\n",
    "    get_model_predictions(\"./model_ConvLSTM.tflite\", train).reshape(train.shape[0], -1),\n",
    "])"
   ]
  },
  {
   "cell_type": "code",
   "execution_count": 10,
   "id": "e40381ec-1830-4417-ae2d-2247ed6018bd",
   "metadata": {},
   "outputs": [
    {
     "ename": "NameError",
     "evalue": "name 'ensemble_data' is not defined",
     "output_type": "error",
     "traceback": [
      "\u001b[0;31m---------------------------------------------------------------------------\u001b[0m",
      "\u001b[0;31mNameError\u001b[0m                                 Traceback (most recent call last)",
      "Cell \u001b[0;32mIn[10], line 7\u001b[0m\n\u001b[1;32m      5\u001b[0m \u001b[38;5;66;03m# Save this DataFrame to a CSV file\u001b[39;00m\n\u001b[1;32m      6\u001b[0m csv_file \u001b[38;5;241m=\u001b[39m \u001b[38;5;124m'\u001b[39m\u001b[38;5;124mensemble_training_data.csv\u001b[39m\u001b[38;5;124m'\u001b[39m\n\u001b[0;32m----> 7\u001b[0m ensemble_data\u001b[38;5;241m.\u001b[39mto_csv(csv_file, index\u001b[38;5;241m=\u001b[39m\u001b[38;5;28;01mFalse\u001b[39;00m)\n\u001b[1;32m      9\u001b[0m \u001b[38;5;66;03m# Compress the CSV file into a Zip file\u001b[39;00m\n\u001b[1;32m     10\u001b[0m zip_file \u001b[38;5;241m=\u001b[39m \u001b[38;5;124m'\u001b[39m\u001b[38;5;124mensemble_training_data.zip\u001b[39m\u001b[38;5;124m'\u001b[39m\n",
      "\u001b[0;31mNameError\u001b[0m: name 'ensemble_data' is not defined"
     ]
    }
   ],
   "source": [
    "\n",
    "#  Create New Training Set\n",
    "ensemble_train_X = all_model_predictions  # Features from models' predictions\n",
    "ensemble_train_y = train['sign_ord'].values  # True labels\n",
    "\n",
    "# Save this DataFrame to a CSV file\n",
    "csv_file = 'ensemble_training_data.csv'\n",
    "ensemble_data.to_csv(csv_file, index=False)\n",
    "\n",
    "# Compress the CSV file into a Zip file\n",
    "zip_file = 'ensemble_training_data.zip'\n",
    "with zipfile.ZipFile(zip_file, 'w') as zf:\n",
    "    zf.write(csv_file, compress_type=zipfile.ZIP_DEFLATED)\n",
    "\n",
    "print(f\"Saved the dataset to {zip_file}\")\n"
   ]
  },
  {
   "cell_type": "code",
   "execution_count": null,
   "id": "afc82043-da1e-4210-85b8-6b35f8393910",
   "metadata": {},
   "outputs": [],
   "source": [
    "input_shape = ensemble_train_X.shape[1]  # Number of features\n",
    "num_classes = len(np.unique(ensemble_train_y))  # Number of unique classes\n",
    "\n",
    "model = tf.keras.models.Sequential([\n",
    "    tf.keras.layers.InputLayer(input_shape=(input_shape,)),\n",
    "    tf.keras.layers.Dense(128, activation='relu'),\n",
    "    tf.keras.layers.Dense(64, activation='relu'),\n",
    "    tf.keras.layers.Dense(num_classes, activation='softmax')\n",
    "])\n",
    "\n",
    "# Compile the model\n",
    "model.compile(optimizer='adam',\n",
    "              loss='sparse_categorical_crossentropy',\n",
    "              metrics=['accuracy'])\n",
    "\n",
    "# Train the model\n",
    "model.fit(ensemble_train_X, ensemble_train_y, epochs=10, batch_size=32, validation_split=0.1)\n",
    "\n",
    "# Convert the trained model to TensorFlow Lite\n",
    "converter = tf.lite.TFLiteConverter.from_keras_model(model)\n",
    "tflite_model = converter.convert()\n",
    "\n",
    "# Save the TFLite model to a file\n",
    "with open('Final.tflite', 'wb') as f:\n",
    "    f.write(tflite_model)"
   ]
  },
  {
   "cell_type": "code",
   "execution_count": null,
   "id": "c7cb2875-7c97-436f-b9c1-f2ce276dc9c6",
   "metadata": {},
   "outputs": [],
   "source": []
  }
 ],
 "metadata": {
  "kernelspec": {
   "display_name": "Python 3 (ipykernel)",
   "language": "python",
   "name": "python3"
  },
  "language_info": {
   "codemirror_mode": {
    "name": "ipython",
    "version": 3
   },
   "file_extension": ".py",
   "mimetype": "text/x-python",
   "name": "python",
   "nbconvert_exporter": "python",
   "pygments_lexer": "ipython3",
   "version": "3.11.8"
  }
 },
 "nbformat": 4,
 "nbformat_minor": 5
}
