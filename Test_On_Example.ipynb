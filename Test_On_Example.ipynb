{
 "cells": [
  {
   "cell_type": "markdown",
   "id": "0cb2be19-1f2f-4425-9881-aa5ea2480a58",
   "metadata": {},
   "source": [
    "# RUN MODELS ON EXAMPLE DATASET"
   ]
  },
  {
   "cell_type": "code",
   "execution_count": 1,
   "id": "93d9184d-fb21-49f0-ae6d-049fef8844dd",
   "metadata": {},
   "outputs": [],
   "source": [
    "import pandas as pd\n",
    "import numpy as np\n",
    "\n",
    "import zipfile\n",
    "import tensorflow as tf\n"
   ]
  },
  {
   "cell_type": "code",
   "execution_count": 2,
   "id": "759c4a42-5579-4dad-b420-2b45cc80f0f6",
   "metadata": {},
   "outputs": [
    {
     "data": {
      "text/html": [
       "<div>\n",
       "<style scoped>\n",
       "    .dataframe tbody tr th:only-of-type {\n",
       "        vertical-align: middle;\n",
       "    }\n",
       "\n",
       "    .dataframe tbody tr th {\n",
       "        vertical-align: top;\n",
       "    }\n",
       "\n",
       "    .dataframe thead th {\n",
       "        text-align: right;\n",
       "    }\n",
       "</style>\n",
       "<table border=\"1\" class=\"dataframe\">\n",
       "  <thead>\n",
       "    <tr style=\"text-align: right;\">\n",
       "      <th></th>\n",
       "      <th>path</th>\n",
       "      <th>participant_id</th>\n",
       "      <th>sequence_id</th>\n",
       "      <th>sign</th>\n",
       "    </tr>\n",
       "  </thead>\n",
       "  <tbody>\n",
       "    <tr>\n",
       "      <th>0</th>\n",
       "      <td>train_landmark_files/26734/1000035562.parquet</td>\n",
       "      <td>26734</td>\n",
       "      <td>1000035562</td>\n",
       "      <td>blow</td>\n",
       "    </tr>\n",
       "    <tr>\n",
       "      <th>1</th>\n",
       "      <td>train_landmark_files/28656/1000106739.parquet</td>\n",
       "      <td>28656</td>\n",
       "      <td>1000106739</td>\n",
       "      <td>wait</td>\n",
       "    </tr>\n",
       "    <tr>\n",
       "      <th>2</th>\n",
       "      <td>train_landmark_files/16069/100015657.parquet</td>\n",
       "      <td>16069</td>\n",
       "      <td>100015657</td>\n",
       "      <td>cloud</td>\n",
       "    </tr>\n",
       "    <tr>\n",
       "      <th>3</th>\n",
       "      <td>train_landmark_files/25571/1000210073.parquet</td>\n",
       "      <td>25571</td>\n",
       "      <td>1000210073</td>\n",
       "      <td>bird</td>\n",
       "    </tr>\n",
       "    <tr>\n",
       "      <th>4</th>\n",
       "      <td>train_landmark_files/62590/1000240708.parquet</td>\n",
       "      <td>62590</td>\n",
       "      <td>1000240708</td>\n",
       "      <td>owie</td>\n",
       "    </tr>\n",
       "    <tr>\n",
       "      <th>...</th>\n",
       "      <td>...</td>\n",
       "      <td>...</td>\n",
       "      <td>...</td>\n",
       "      <td>...</td>\n",
       "    </tr>\n",
       "    <tr>\n",
       "      <th>94472</th>\n",
       "      <td>train_landmark_files/53618/999786174.parquet</td>\n",
       "      <td>53618</td>\n",
       "      <td>999786174</td>\n",
       "      <td>white</td>\n",
       "    </tr>\n",
       "    <tr>\n",
       "      <th>94473</th>\n",
       "      <td>train_landmark_files/26734/999799849.parquet</td>\n",
       "      <td>26734</td>\n",
       "      <td>999799849</td>\n",
       "      <td>have</td>\n",
       "    </tr>\n",
       "    <tr>\n",
       "      <th>94474</th>\n",
       "      <td>train_landmark_files/25571/999833418.parquet</td>\n",
       "      <td>25571</td>\n",
       "      <td>999833418</td>\n",
       "      <td>flower</td>\n",
       "    </tr>\n",
       "    <tr>\n",
       "      <th>94475</th>\n",
       "      <td>train_landmark_files/29302/999895257.parquet</td>\n",
       "      <td>29302</td>\n",
       "      <td>999895257</td>\n",
       "      <td>room</td>\n",
       "    </tr>\n",
       "    <tr>\n",
       "      <th>94476</th>\n",
       "      <td>train_landmark_files/36257/999962374.parquet</td>\n",
       "      <td>36257</td>\n",
       "      <td>999962374</td>\n",
       "      <td>happy</td>\n",
       "    </tr>\n",
       "  </tbody>\n",
       "</table>\n",
       "<p>94477 rows × 4 columns</p>\n",
       "</div>"
      ],
      "text/plain": [
       "                                                path  participant_id  \\\n",
       "0      train_landmark_files/26734/1000035562.parquet           26734   \n",
       "1      train_landmark_files/28656/1000106739.parquet           28656   \n",
       "2       train_landmark_files/16069/100015657.parquet           16069   \n",
       "3      train_landmark_files/25571/1000210073.parquet           25571   \n",
       "4      train_landmark_files/62590/1000240708.parquet           62590   \n",
       "...                                              ...             ...   \n",
       "94472   train_landmark_files/53618/999786174.parquet           53618   \n",
       "94473   train_landmark_files/26734/999799849.parquet           26734   \n",
       "94474   train_landmark_files/25571/999833418.parquet           25571   \n",
       "94475   train_landmark_files/29302/999895257.parquet           29302   \n",
       "94476   train_landmark_files/36257/999962374.parquet           36257   \n",
       "\n",
       "       sequence_id    sign  \n",
       "0       1000035562    blow  \n",
       "1       1000106739    wait  \n",
       "2        100015657   cloud  \n",
       "3       1000210073    bird  \n",
       "4       1000240708    owie  \n",
       "...            ...     ...  \n",
       "94472    999786174   white  \n",
       "94473    999799849    have  \n",
       "94474    999833418  flower  \n",
       "94475    999895257    room  \n",
       "94476    999962374   happy  \n",
       "\n",
       "[94477 rows x 4 columns]"
      ]
     },
     "execution_count": 2,
     "metadata": {},
     "output_type": "execute_result"
    }
   ],
   "source": [
    "zf = zipfile.ZipFile('asl-signs.zip') \n",
    "train = pd.read_csv(zf.open('train.csv'))\n"
   ]
  },
  {
   "cell_type": "code",
   "execution_count": 4,
   "id": "a4b9d0a2-0be5-4fc6-a536-875fcad4b6ff",
   "metadata": {},
   "outputs": [],
   "source": [
    "# Add ordinally Encoded Sign (assign number to each sign name)\n",
    "train['sign_ord'] = train['sign'].astype('category').cat.codes\n",
    "\n",
    "# Dictionaries to translate sign <-> ordinal encoded sign\n",
    "SIGN2ORD = train[['sign', 'sign_ord']].set_index('sign').squeeze().to_dict()\n",
    "ORD2SIGN = train[['sign_ord', 'sign']].set_index('sign_ord').squeeze().to_dict()"
   ]
  },
  {
   "cell_type": "code",
   "execution_count": 5,
   "id": "5fe3da29-b5d6-4589-8552-1c1f2764fb8d",
   "metadata": {},
   "outputs": [],
   "source": [
    "ROWS_PER_FRAME = 543  # number of landmarks per frame\n",
    "\n",
    "def load_relevant_data_subset(pq_path):\n",
    "    data_columns = ['x', 'y', 'z']\n",
    "    data = pd.read_parquet(pq_path, columns=data_columns)\n",
    "    n_frames = int(len(data) / ROWS_PER_FRAME)\n",
    "    data = data.values.reshape(n_frames, ROWS_PER_FRAME, len(data_columns))\n",
    "    return data.astype(np.float32)"
   ]
  },
  {
   "cell_type": "code",
   "execution_count": 6,
   "id": "23b9a009-0293-4304-907c-b49345b576a6",
   "metadata": {},
   "outputs": [],
   "source": [
    "interpreter_first = tf.lite.Interpreter(\"./model_first.tflite\")\n",
    "found_signatures_first = list(interpreter_first.get_signature_list().keys())\n",
    "prediction_fn_first = interpreter_first.get_signature_runner(\"serving_default\")"
   ]
  },
  {
   "cell_type": "code",
   "execution_count": 7,
   "id": "92a994a4-8a57-4be7-9f04-bd493cef906a",
   "metadata": {},
   "outputs": [],
   "source": [
    "interpreter = tf.lite.Interpreter(\"./model.tflite\")\n",
    "found_signatures = list(interpreter.get_signature_list().keys())\n",
    "prediction_fn = interpreter.get_signature_runner(\"serving_default\")"
   ]
  },
  {
   "cell_type": "code",
   "execution_count": 8,
   "id": "b1e0ed89-d37f-467f-8c7c-e8ed6df3d37b",
   "metadata": {},
   "outputs": [],
   "source": [
    "interpreter_achraf = tf.lite.Interpreter(\"./model_achraf.tflite\")\n",
    "found_signatures_achraf = list(interpreter.get_signature_list().keys())\n",
    "prediction_fn_achraf = interpreter.get_signature_runner(\"serving_default\")"
   ]
  },
  {
   "cell_type": "code",
   "execution_count": 9,
   "id": "6ff22460-bb69-47b6-8ce9-a58e1885197f",
   "metadata": {},
   "outputs": [],
   "source": [
    "interpreter_fourmodels = tf.lite.Interpreter(\"./model_achraf.tflite\")\n",
    "found_signatures_fourmodels = list(interpreter.get_signature_list().keys())\n",
    "prediction_fn_fourmodels = interpreter.get_signature_runner(\"serving_default\")"
   ]
  },
  {
   "cell_type": "code",
   "execution_count": 12,
   "id": "59f47ea1-6f42-4112-b0ab-0e443a16b75e",
   "metadata": {
    "scrolled": true
   },
   "outputs": [],
   "source": [
    "pq_file = 'output.parquet'\n",
    "df = pd.read_parquet('output.parquet')\n",
    "xyz = pd.read_parquet(pq_file)"
   ]
  },
  {
   "cell_type": "code",
   "execution_count": 13,
   "id": "eeea82ff-198e-4036-a861-2e2b0af954fa",
   "metadata": {},
   "outputs": [
    {
     "ename": "ValueError",
     "evalue": "cannot reshape array of size 26091 into shape (16,543,3)",
     "output_type": "error",
     "traceback": [
      "\u001b[0;31m---------------------------------------------------------------------------\u001b[0m",
      "\u001b[0;31mValueError\u001b[0m                                Traceback (most recent call last)",
      "Cell \u001b[0;32mIn[13], line 4\u001b[0m\n\u001b[1;32m      1\u001b[0m \u001b[38;5;66;03m#df = remove_rows_to_make_multiple_of_543(xyz)\u001b[39;00m\n\u001b[1;32m      3\u001b[0m df\u001b[38;5;241m.\u001b[39mto_parquet(\u001b[38;5;124m'\u001b[39m\u001b[38;5;124mmodified_file.pq\u001b[39m\u001b[38;5;124m'\u001b[39m)\n\u001b[0;32m----> 4\u001b[0m xyz_np\u001b[38;5;241m=\u001b[39mload_relevant_data_subset(\u001b[38;5;124m'\u001b[39m\u001b[38;5;124mmodified_file.pq\u001b[39m\u001b[38;5;124m'\u001b[39m)\n",
      "Cell \u001b[0;32mIn[5], line 7\u001b[0m, in \u001b[0;36mload_relevant_data_subset\u001b[0;34m(pq_path)\u001b[0m\n\u001b[1;32m      5\u001b[0m data \u001b[38;5;241m=\u001b[39m pd\u001b[38;5;241m.\u001b[39mread_parquet(pq_path, columns\u001b[38;5;241m=\u001b[39mdata_columns)\n\u001b[1;32m      6\u001b[0m n_frames \u001b[38;5;241m=\u001b[39m \u001b[38;5;28mint\u001b[39m(\u001b[38;5;28mlen\u001b[39m(data) \u001b[38;5;241m/\u001b[39m ROWS_PER_FRAME)\n\u001b[0;32m----> 7\u001b[0m data \u001b[38;5;241m=\u001b[39m data\u001b[38;5;241m.\u001b[39mvalues\u001b[38;5;241m.\u001b[39mreshape(n_frames, ROWS_PER_FRAME, \u001b[38;5;28mlen\u001b[39m(data_columns))\n\u001b[1;32m      8\u001b[0m \u001b[38;5;28;01mreturn\u001b[39;00m data\u001b[38;5;241m.\u001b[39mastype(np\u001b[38;5;241m.\u001b[39mfloat32)\n",
      "\u001b[0;31mValueError\u001b[0m: cannot reshape array of size 26091 into shape (16,543,3)"
     ]
    }
   ],
   "source": [
    "#df = remove_rows_to_make_multiple_of_543(xyz)\n",
    "\n",
    "df.to_parquet('modified_file.pq')\n",
    "xyz_np=load_relevant_data_subset('modified_file.pq')\n"
   ]
  },
  {
   "cell_type": "code",
   "execution_count": 11,
   "id": "181f5974-d379-4ecc-ba5d-1a966e8dbe38",
   "metadata": {},
   "outputs": [
    {
     "ename": "NameError",
     "evalue": "name 'xyz_np' is not defined",
     "output_type": "error",
     "traceback": [
      "\u001b[0;31m---------------------------------------------------------------------------\u001b[0m",
      "\u001b[0;31mNameError\u001b[0m                                 Traceback (most recent call last)",
      "Cell \u001b[0;32mIn[11], line 1\u001b[0m\n\u001b[0;32m----> 1\u001b[0m prediction_first\u001b[38;5;241m=\u001b[39mprediction_fn_first(inputs\u001b[38;5;241m=\u001b[39mxyz_np)\n\u001b[1;32m      2\u001b[0m sign_first\u001b[38;5;241m=\u001b[39mprediction_first[\u001b[38;5;124m'\u001b[39m\u001b[38;5;124moutputs\u001b[39m\u001b[38;5;124m'\u001b[39m]\u001b[38;5;241m.\u001b[39margmax()\n\u001b[1;32m      3\u001b[0m probabilities_first \u001b[38;5;241m=\u001b[39m prediction_first[\u001b[38;5;124m'\u001b[39m\u001b[38;5;124moutputs\u001b[39m\u001b[38;5;124m'\u001b[39m]\n",
      "\u001b[0;31mNameError\u001b[0m: name 'xyz_np' is not defined"
     ]
    }
   ],
   "source": [
    "prediction_first=prediction_fn_first(inputs=xyz_np)\n",
    "sign_first=prediction_first['outputs'].argmax()\n",
    "probabilities_first = prediction_first['outputs']\n",
    "confidence_first = probabilities_first.max()\n",
    "print(\"PRED_first : \", ORD2SIGN.get(sign_first))# \" ; confidence_first\",confidence_first)"
   ]
  },
  {
   "cell_type": "code",
   "execution_count": 18,
   "id": "dca9f8da-e163-43e8-b033-548def46ccc8",
   "metadata": {},
   "outputs": [
    {
     "name": "stdout",
     "output_type": "stream",
     "text": [
      "PRED :  black\n"
     ]
    }
   ],
   "source": [
    "prediction=prediction_fn(inputs=xyz_np)\n",
    "sign=prediction['outputs'].argmax()\n",
    "probabilities = prediction['outputs']\n",
    "confidence = probabilities.max()\n",
    "print(\"PRED : \", ORD2SIGN.get(sign))# confidence\",confidence)"
   ]
  },
  {
   "cell_type": "code",
   "execution_count": 19,
   "id": "269b7704-dda3-478d-b08a-05d05c194276",
   "metadata": {},
   "outputs": [
    {
     "name": "stdout",
     "output_type": "stream",
     "text": [
      "PRED_achraf :  black\n"
     ]
    }
   ],
   "source": [
    "prediction_achraf=prediction_fn_achraf(inputs=xyz_np)\n",
    "sign_achraf=prediction_achraf['outputs'].argmax()\n",
    "probabilities_achraf = prediction_achraf['outputs']\n",
    "confidence_achraf = probabilities_achraf.max()\n",
    "print(\"PRED_achraf : \", ORD2SIGN.get(sign))#, \" ; confidence_achraf\",confidence_achraf)"
   ]
  },
  {
   "cell_type": "code",
   "execution_count": 20,
   "id": "d589e0d3-e414-4aac-816a-d7efeb183977",
   "metadata": {},
   "outputs": [
    {
     "name": "stdout",
     "output_type": "stream",
     "text": [
      "PRED_fourmodels :  black\n"
     ]
    }
   ],
   "source": [
    "prediction_fourmodels=prediction_fn_fourmodels(inputs=xyz_np)\n",
    "sign_fourmodels=prediction_fourmodels['outputs'].argmax()\n",
    "probabilities_fourmodels = prediction_fourmodels['outputs']\n",
    "confidence_fourmodels = probabilities_fourmodels.max()\n",
    "print(\"PRED_fourmodels : \", ORD2SIGN.get(sign))#, \" ; confidence_fourmodels\",confidence_fourmodels)\n"
   ]
  },
  {
   "cell_type": "code",
   "execution_count": null,
   "id": "2085196f-b666-417f-bc37-53335678ccd2",
   "metadata": {},
   "outputs": [],
   "source": []
  }
 ],
 "metadata": {
  "kernelspec": {
   "display_name": "Python 3 (ipykernel)",
   "language": "python",
   "name": "python3"
  },
  "language_info": {
   "codemirror_mode": {
    "name": "ipython",
    "version": 3
   },
   "file_extension": ".py",
   "mimetype": "text/x-python",
   "name": "python",
   "nbconvert_exporter": "python",
   "pygments_lexer": "ipython3",
   "version": "3.11.8"
  }
 },
 "nbformat": 4,
 "nbformat_minor": 5
}
